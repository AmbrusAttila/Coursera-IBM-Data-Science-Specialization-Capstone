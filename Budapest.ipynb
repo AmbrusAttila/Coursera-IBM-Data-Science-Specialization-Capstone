{
    "cells": [
        {
            "cell_type": "markdown",
            "metadata": {
                "collapsed": true
            },
            "source": "<h1>Budapest</h1>\n\n<h2>Introduction:</h2>\n\n<p>Budapest is the capital of Hungary and it is currently the 9th most populated city in the European Union. The number of its inhabitants is 1.75 million, which is roughly 18% of the population of Hungary. The river Danube separates the city of Budapest into two parts: Buda and Pest.</p>\n<p>The scope of this project is to compare Buda and Pest, analyzing the venue data of the 23 districts of Budapest. Are the two parts of the city similar in terms of the most common categories of venue, or are they different?</p>\n<p>The implementation of the project was ordered by the Mayor of Budapest because he hopes that by eliminating the differences between the two areas, Budapest can be unified.</p>\n    \n<h2>Data:</h2>   \n    \n<p>I intend to obtain the required data for the test from various sources. I plan to use web scraping on the three websites below:</p>\n<p><a href=\"http://nagyvofely.hu/Budapest/irszam\">Link1</a><br />\nFrom this website I will extract the postal codes of Budapest and the corrisponding disctrict numbers.</p>\n<p><a href=\"https://xn--irnytszmok-t4af6mnd.cybo.com/magyarorsz%C3%A1g/\">Link2</a><br />\nThis website contains the coordinates belonging to the postal codes.</p>\n<p><a href=\"https://en.m.wikipedia.org/wiki/List_of_districts_in_Budapest\">Link3</a><br />\nFrom this Wikipedia site I will get the list of the areas belonging to the disctricts.</p>\n<p>Since not all data is available through web scraping, I will use manual data processing as well with the help of Google search. With this method I will collect the coordinates belonging to the disctricts.</p>\n<p>Finally, using the API venue explore function of Foursquare, I would like to extract up to 300 venues per district within the area of 1000 meters from the coordinate of each disctrict\u2019s center, which I would like to use for further analysis.</p>\n"
        },
        {
            "cell_type": "code",
            "execution_count": null,
            "metadata": {},
            "outputs": [],
            "source": ""
        }
    ],
    "metadata": {
        "kernelspec": {
            "display_name": "Python 3.6",
            "language": "python",
            "name": "python3"
        },
        "language_info": {
            "codemirror_mode": {
                "name": "ipython",
                "version": 3
            },
            "file_extension": ".py",
            "mimetype": "text/x-python",
            "name": "python",
            "nbconvert_exporter": "python",
            "pygments_lexer": "ipython3",
            "version": "3.6.9"
        }
    },
    "nbformat": 4,
    "nbformat_minor": 1
}