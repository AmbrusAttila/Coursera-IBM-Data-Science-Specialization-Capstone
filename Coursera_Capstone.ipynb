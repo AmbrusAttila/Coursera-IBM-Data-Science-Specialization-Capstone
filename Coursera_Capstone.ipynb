{
    "cells": [
        {
            "cell_type": "markdown",
            "metadata": {},
            "source": "<h1>It is a Coursera Capstone project:</h1>"
        },
        {
            "cell_type": "code",
            "execution_count": 1,
            "metadata": {},
            "outputs": [
                {
                    "name": "stdout",
                    "output_type": "stream",
                    "text": "Hello Capstone Project Course!\n"
                }
            ],
            "source": "print('Hello Capstone Project Course!') "
        },
        {
            "cell_type": "markdown",
            "metadata": {},
            "source": "<h1>Postalcodes from Wikipedia</h1>"
        },
        {
            "cell_type": "code",
            "execution_count": 2,
            "metadata": {},
            "outputs": [],
            "source": "import requests\nfrom bs4 import BeautifulSoup\nimport pandas as pd"
        },
        {
            "cell_type": "code",
            "execution_count": 3,
            "metadata": {},
            "outputs": [],
            "source": "url='https://en.m.wikipedia.org/wiki/List_of_postal_codes_of_Canada:_M'\n\nres = requests.get(url)\nres = BeautifulSoup(res.content,'lxml')\ntable = res.find('table')\ndf=pd.read_html(str(table))[0]"
        },
        {
            "cell_type": "code",
            "execution_count": null,
            "metadata": {},
            "outputs": [],
            "source": "df.columns=['PostalCode', 'Borough', 'Neighborhood'] \ndf=df[df['Borough']!='Not assigned']\ndf.loc[df['Neighborhood']=='Not assigned','Neighborhood']=df['Borough']\ndf['Neighborhood']=df['Neighborhood'].str.replace(' /', ',')\ndf.reset_index(drop=True, inplace=True)"
        },
        {
            "cell_type": "code",
            "execution_count": null,
            "metadata": {},
            "outputs": [
                {
                    "name": "stdout",
                    "output_type": "stream",
                    "text": "  PostalCode           Borough                                 Neighborhood\n0        M3A        North York                                    Parkwoods\n1        M4A        North York                             Victoria Village\n2        M5A  Downtown Toronto                    Regent Park, Harbourfront\n3        M6A        North York             Lawrence Manor, Lawrence Heights\n4        M7A  Downtown Toronto  Queen's Park, Ontario Provincial Government\n"
                },
                {
                    "data": {
                        "text/plain": "(103, 3)"
                    },
                    "execution_count": 5,
                    "metadata": {},
                    "output_type": "execute_result"
                }
            ],
            "source": "print(df.head())\ndf.shape"
        },
        {
            "cell_type": "markdown",
            "metadata": {},
            "source": "<h1>Geolocation data</h1>"
        },
        {
            "cell_type": "code",
            "execution_count": null,
            "metadata": {},
            "outputs": [
                {
                    "name": "stdout",
                    "output_type": "stream",
                    "text": "  PostalCode           Borough                                 Neighborhood  \\\n0        M3A        North York                                    Parkwoods   \n1        M4A        North York                             Victoria Village   \n2        M5A  Downtown Toronto                    Regent Park, Harbourfront   \n3        M6A        North York             Lawrence Manor, Lawrence Heights   \n4        M7A  Downtown Toronto  Queen's Park, Ontario Provincial Government   \n\n    Latitude  Longitude  \n0  43.753259 -79.329656  \n1  43.725882 -79.315572  \n2  43.654260 -79.360636  \n3  43.718518 -79.464763  \n4  43.662301 -79.389494  \n"
                }
            ],
            "source": "locdf=pd.read_csv('https://cocl.us/Geospatial_data')\nlocdf.columns=['PostalCode', 'Latitude', 'Longitude']\ndf=df.join(locdf.set_index('PostalCode'), on='PostalCode')\n\nprint(df.head())"
        },
        {
            "cell_type": "markdown",
            "metadata": {},
            "source": "<h1>Foursquare Venues</h1>"
        },
        {
            "cell_type": "code",
            "execution_count": null,
            "metadata": {
                "scrolled": true
            },
            "outputs": [
                {
                    "name": "stdout",
                    "output_type": "stream",
                    "text": "  PostalCode           Borough                                 Neighborhood  \\\n0        M5A  Downtown Toronto                    Regent Park, Harbourfront   \n1        M7A  Downtown Toronto  Queen's Park, Ontario Provincial Government   \n2        M5B  Downtown Toronto                     Garden District, Ryerson   \n3        M5C  Downtown Toronto                               St. James Town   \n4        M4E      East Toronto                                  The Beaches   \n\n    Latitude  Longitude  \n0  43.654260 -79.360636  \n1  43.662301 -79.389494  \n2  43.657162 -79.378937  \n3  43.651494 -79.375418  \n4  43.676357 -79.293031  \n(39, 5)\n"
                }
            ],
            "source": "filter=[('Toronto' in bor)  for bor in df['Borough']]\ntoronto=df[filter].reset_index(drop=True)\nprint(toronto.head())\nprint(toronto.shape)"
        },
        {
            "cell_type": "code",
            "execution_count": null,
            "metadata": {
                "scrolled": true
            },
            "outputs": [
                {
                    "name": "stdout",
                    "output_type": "stream",
                    "text": "Solving environment: - "
                }
            ],
            "source": "!conda install -c conda-forge geopy --yes\nfrom geopy.geocoders import Nominatim"
        },
        {
            "cell_type": "code",
            "execution_count": null,
            "metadata": {},
            "outputs": [],
            "source": "address='Toronto'\ngeolocator=Nominatim(user_agent='tor_explorer')\nlocation=geolocator.geocode(address)\nlatitude=location.latitude\nlongitude=location.longitude\nprint(latitude, longitude)"
        },
        {
            "cell_type": "code",
            "execution_count": null,
            "metadata": {
                "scrolled": true
            },
            "outputs": [],
            "source": "!conda install -c conda-forge folium=0.5.0 --yes\nimport folium"
        },
        {
            "cell_type": "code",
            "execution_count": null,
            "metadata": {},
            "outputs": [],
            "source": "map=folium.Map(location=[latitude, longitude], zoom_start=12)\n\nfor lat, lon, label in zip(toronto['Latitude'], toronto['Longitude'], toronto['Neighborhood']):\n  label=folium.Popup(label, parse_html=True)\n  folium.features.CircleMarker(\n      [lat, lon], \n      radius=5,\n      color='blue',\n      popup=label,\n      fill=True,\n      fill_color='#3186cc',\n      fill_opacity=0.7,\n      parse_html=False).add_to(map)\n\nmap"
        },
        {
            "cell_type": "code",
            "execution_count": null,
            "metadata": {},
            "outputs": [],
            "source": "CLIENT_ID='YOUR_ID'\nCLIENT_SECRET='YOUR_SECRET'\nVERSION='20180605'\nLIMIT=100\nRADIUS=500"
        },
        {
            "cell_type": "code",
            "execution_count": null,
            "metadata": {},
            "outputs": [],
            "source": "# The code was removed by Watson Studio for sharing."
        },
        {
            "cell_type": "code",
            "execution_count": null,
            "metadata": {},
            "outputs": [],
            "source": "def getNearbyVenues(names, lats, lons):\n    list=[]\n    for n, la, lo in zip(names, lats, lons):\n        url= 'https://api.foursquare.com/v2/venues/explore?client_id={}&client_secret={}&v={}&ll={},{}&radius={}&limit={}'.format(CLIENT_ID, CLIENT_SECRET, VERSION, la, lo, RADIUS, LIMIT)\n        results= requests.get(url).json()['response']['groups'][0]['items']\n        list.append([(\n         n, \n         la, \n         lo, \n         v['venue']['name'], \n         v['venue']['location']['lat'], \n         v['venue']['location']['lng'], \n         v['venue']['categories'][0]['name']) for v in results]\n        )\n    \n    nearby=pd.DataFrame([item for vlist in list for item in vlist])\n    nearby.columns=[\n     'Neighborhood',\n     'Neighborhood Latitude', \n     'Neighborhood Longitude',\n     'Venue',\n     'Venue Latitude',\n     'Venue Longitude', \n     'Venue Category'\n    ]\n\n    return(nearby)"
        },
        {
            "cell_type": "code",
            "execution_count": null,
            "metadata": {},
            "outputs": [],
            "source": "venues=getNearbyVenues(\n  names=toronto['Neighborhood'],\n  lats=toronto['Latitude'],\n  lons=toronto['Longitude']\n)\nprint(venues.shape)"
        },
        {
            "cell_type": "code",
            "execution_count": null,
            "metadata": {},
            "outputs": [],
            "source": "onehot=pd.get_dummies(venues[['Venue Category']], prefix=\"\", prefix_sep=\"\")\nonehot['Neighborhood']=venues['Neighborhood']\nfixed_columns=[onehot.columns[-1]]+list(onehot.columns[:-1])\nonehot=onehot[fixed_columns]\ngrouped=onehot.groupby('Neighborhood').mean().reset_index()\nprint(grouped.shape)"
        },
        {
            "cell_type": "code",
            "execution_count": null,
            "metadata": {},
            "outputs": [],
            "source": "def most_common_venues(row, top):\n    row_categories=row.iloc[1:]\n    row_categories_sorted= row_categories.sort_values(ascending=False)\n    return row_categories_sorted.index.values[0:top]"
        },
        {
            "cell_type": "code",
            "execution_count": null,
            "metadata": {},
            "outputs": [],
            "source": "import numpy as np"
        },
        {
            "cell_type": "code",
            "execution_count": null,
            "metadata": {},
            "outputs": [],
            "source": "top=10\nindicators=['st', 'nd', 'rd']\ncolumns=['Neighborhood']\nfor ind in np.arange(top):\n    try:\n        columns.append('{}{} Most Common Venue'.format(ind+1, indicator[ind]))\n    except:\n        columns.append('{}th Most Common Venue'.format(ind+1))\n\nsorted=pd.DataFrame(columns=columns)\nsorted['Neighborhood']=grouped['Neighborhood']\n\nfor ind in np.arange(grouped.shape[0]):\n    sorted.iloc[ind, 1:]=most_common_venues(grouped.iloc[ind, :],top)\n\nprint(sorted.head())"
        },
        {
            "cell_type": "markdown",
            "metadata": {},
            "source": "<h1>Clustering</h1>"
        },
        {
            "cell_type": "code",
            "execution_count": null,
            "metadata": {},
            "outputs": [],
            "source": "from sklearn.cluster import KMeans"
        },
        {
            "cell_type": "code",
            "execution_count": null,
            "metadata": {},
            "outputs": [],
            "source": "clustering=grouped.drop('Neighborhood', 1)\n\nk=5\nkmeans=KMeans(n_clusters=k, random_state=0)\nkmeans.fit(clustering)\n\nsorted.insert(0,'Cluster Labels', kmeans.labels_)\n\nmerged=toronto\nmerged=merged.join(sorted.set_index('Neighborhood'), on='Neighborh"
        },
        {
            "cell_type": "code",
            "execution_count": null,
            "metadata": {},
            "outputs": [],
            "source": "import matplotlib.cm as cm\nimport matplotlib.colors as colors"
        },
        {
            "cell_type": "code",
            "execution_count": null,
            "metadata": {},
            "outputs": [],
            "source": "map=folium.Map(location=[latitude, longitude], zoom_start=12)\n\nx=np.arange(k)\nys=[i+x+(i*x)**2 for i in range(k)]\ncolors_array=cm.rainbow(np.linspace(0,1,len(ys)))\nrainbow=[colors.rgb2hex(i) for i in colors_array]\n\nmarkers_colors=[]\n\nfor lat, lon, poi, clus in zip(merged['Latitude'], merged['Longitude'], merged['Neighborhood'], merged['Cluster Labels']):\n    label=folium.Popup(str(poi)+' Cluster '+str(clus), parse_html=True)\n    folium.features.CircleMarker(\n        [lat, lon], \n        radius=5,\n        color=rainbow[clus-1], \n        popup=label,\n        fill=True,\n        fill_color=rainbow[clus-1], \n        fill_opacity=0.7).add_to(map)\n                                                   \nmap"
        },
        {
            "cell_type": "markdown",
            "metadata": {},
            "source": "<h2>Cluster 1</h2>"
        },
        {
            "cell_type": "code",
            "execution_count": null,
            "metadata": {},
            "outputs": [],
            "source": "merged.loc[merged['Cluster Labels']==0, merged.columns[[2]+list(range(k, merged.shape[1]))]]"
        },
        {
            "cell_type": "markdown",
            "metadata": {},
            "source": "<h2>Cluster 2</h2>"
        },
        {
            "cell_type": "code",
            "execution_count": null,
            "metadata": {},
            "outputs": [],
            "source": "merged.loc[merged['Cluster Labels']==1, merged.columns[[2]+list(range(k, merged.shape[1]))]]"
        },
        {
            "cell_type": "markdown",
            "metadata": {},
            "source": "<h2>Cluster 3</h2>"
        },
        {
            "cell_type": "code",
            "execution_count": null,
            "metadata": {},
            "outputs": [],
            "source": "merged.loc[merged['Cluster Labels']==2, merged.columns[[2]+list(range(k, merged.shape[1]))]]"
        },
        {
            "cell_type": "markdown",
            "metadata": {},
            "source": "<h2>Cluster 4</h2>"
        },
        {
            "cell_type": "code",
            "execution_count": null,
            "metadata": {},
            "outputs": [],
            "source": "merged.loc[merged['Cluster Labels']==3, merged.columns[[2]+list(range(k, merged.shape[1]))]]"
        },
        {
            "cell_type": "markdown",
            "metadata": {},
            "source": "<h2>Cluster 5</h2>"
        },
        {
            "cell_type": "code",
            "execution_count": null,
            "metadata": {},
            "outputs": [],
            "source": "merged.loc[merged['Cluster Labels']==4, merged.columns[[2]+list(range(k, merged.shape[1]))]]"
        },
        {
            "cell_type": "code",
            "execution_count": null,
            "metadata": {},
            "outputs": [],
            "source": ""
        }
    ],
    "metadata": {
        "kernelspec": {
            "display_name": "Python 3.6",
            "language": "python",
            "name": "python3"
        },
        "language_info": {
            "codemirror_mode": {
                "name": "ipython",
                "version": 3
            },
            "file_extension": ".py",
            "mimetype": "text/x-python",
            "name": "python",
            "nbconvert_exporter": "python",
            "pygments_lexer": "ipython3",
            "version": "3.6.9"
        }
    },
    "nbformat": 4,
    "nbformat_minor": 1
}