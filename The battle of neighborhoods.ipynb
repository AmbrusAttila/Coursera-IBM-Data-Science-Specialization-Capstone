{
    "cells": [
        {
            "cell_type": "code",
            "execution_count": 2,
            "metadata": {},
            "outputs": [],
            "source": "import pandas as pd\nimport requests\nfrom bs4 import BeautifulSoup"
        },
        {
            "cell_type": "code",
            "execution_count": 3,
            "metadata": {},
            "outputs": [],
            "source": "url='http://nagyvofely.hu/Budapest/irszam'\nres = requests.get(url)\nres = BeautifulSoup(res.content,'lxml')\n\ndata = res.findAll('fieldset')"
        },
        {
            "cell_type": "code",
            "execution_count": 4,
            "metadata": {},
            "outputs": [],
            "source": "postal_code=[d.find('a').text for d in data]\ndistrict=[d.find('a')['title'].replace(' ', '').split(',')[1].split('.')[0] for d in data]"
        },
        {
            "cell_type": "code",
            "execution_count": 5,
            "metadata": {
                "scrolled": true
            },
            "outputs": [
                {
                    "data": {
                        "text/html": "<div>\n<style scoped>\n    .dataframe tbody tr th:only-of-type {\n        vertical-align: middle;\n    }\n\n    .dataframe tbody tr th {\n        vertical-align: top;\n    }\n\n    .dataframe thead th {\n        text-align: right;\n    }\n</style>\n<table border=\"1\" class=\"dataframe\">\n  <thead>\n    <tr style=\"text-align: right;\">\n      <th></th>\n      <th>PostalCode</th>\n      <th>Neighborhood</th>\n    </tr>\n  </thead>\n  <tbody>\n    <tr>\n      <th>151</th>\n      <td>1214</td>\n      <td>XXI</td>\n    </tr>\n    <tr>\n      <th>152</th>\n      <td>1215</td>\n      <td>XXI</td>\n    </tr>\n    <tr>\n      <th>153</th>\n      <td>1221</td>\n      <td>XXII</td>\n    </tr>\n    <tr>\n      <th>154</th>\n      <td>1222</td>\n      <td>XXII</td>\n    </tr>\n    <tr>\n      <th>155</th>\n      <td>1223</td>\n      <td>XXII</td>\n    </tr>\n    <tr>\n      <th>156</th>\n      <td>1224</td>\n      <td>XXII</td>\n    </tr>\n    <tr>\n      <th>157</th>\n      <td>1225</td>\n      <td>XXII</td>\n    </tr>\n    <tr>\n      <th>158</th>\n      <td>1237</td>\n      <td>XXIII</td>\n    </tr>\n    <tr>\n      <th>159</th>\n      <td>1238</td>\n      <td>XXIII</td>\n    </tr>\n    <tr>\n      <th>160</th>\n      <td>1239</td>\n      <td>XXIII</td>\n    </tr>\n  </tbody>\n</table>\n</div>",
                        "text/plain": "    PostalCode Neighborhood\n151       1214          XXI\n152       1215          XXI\n153       1221         XXII\n154       1222         XXII\n155       1223         XXII\n156       1224         XXII\n157       1225         XXII\n158       1237        XXIII\n159       1238        XXIII\n160       1239        XXIII"
                    },
                    "execution_count": 5,
                    "metadata": {},
                    "output_type": "execute_result"
                }
            ],
            "source": "df=pd.DataFrame()\ndf['PostalCode']=postal_code\ndf['Neighborhood']=district\ndf.tail(10)"
        },
        {
            "cell_type": "code",
            "execution_count": 9,
            "metadata": {
                "scrolled": false
            },
            "outputs": [],
            "source": "url_temp='https://xn--irnytszmok-t4af6mnd.cybo.com/magyarorsz%C3%A1g/postal_budapest-x.-ker%C3%BClet/'\n\nlat=[]\nlon=[]\n\nlatlon=pd.DataFrame()\n\nfor postal in df['PostalCode'][0:9]:\n    url=url_temp.replace('postal', str(postal))\n\n    res = requests.get(url, headers=headers)\n    res = BeautifulSoup(res.content,'lxml')\n    tables=res.findAll('table')\n    if(len(tables)!=0):\n        table=tables[0]\n        rows=table.findAll('tr')\n\n        for r in rows:\n            cells=r.findAll('td')\n            if cells[0].text=='Koordin\u00e1t\u00e1k':\n                coords=cells[1].text.split('/')\n                lat.append(coords[0].replace('\u00b0','').replace(' ', ''))\n                lon.append(coords[1].replace('\u00b0','').replace(' ',''))\n    else:\n        print(postal)\n\nlatlon['Lat']=lat\nlatlon['Lon']=lon\nlatlon.to_csv('latlon01.csv')\n"
        },
        {
            "cell_type": "code",
            "execution_count": null,
            "metadata": {},
            "outputs": [],
            "source": "df['Borough.Latitude']=lat\ndf['Borough.Longitude']=lon\ndf.head()"
        },
        {
            "cell_type": "code",
            "execution_count": null,
            "metadata": {},
            "outputs": [],
            "source": "url='https://en.m.wikipedia.org/wiki/List_of_districts_in_Budapest'\n\n#res=requests.get(url)\n#res=BeautifulSoup(res.content, 'lxml')\n#table=res.find('table')\ndf2=pd.read_html(url, skiprows=1)[0]\ndf2.head()"
        },
        {
            "cell_type": "code",
            "execution_count": null,
            "metadata": {},
            "outputs": [],
            "source": "df3=pd.DataFrame() \ndf3['Neighborhood']=df2[0].apply(lambda x: x.replace('.','').replace(' ker\u00fclet',''))\ndf3['Borough']=df2[2]\ndf3.drop(df3.index[-1], inplace=True)\ndf3.head()"
        },
        {
            "cell_type": "code",
            "execution_count": null,
            "metadata": {
                "scrolled": true
            },
            "outputs": [],
            "source": "coords='47.4979\u00b0 N, 19.0402\u00b0 E, 47.5393\u00b0 N, 18.9869\u00b0 E, 47.5672\u00b0 N, 19.0369\u00b0 E, 47.5649\u00b0 N, 19.0913\u00b0 E, 47.5002\u00b0 N, 19.0520\u00b0 E, 47.5099\u00b0 N, 19.0626\u00b0 E, 47.5027\u00b0 N, 19.0734\u00b0 E, 47.4894\u00b0 N, 19.0707\u00b0 E, 47.4649\u00b0 N, 19.0916\u00b0 E, 47.4833\u00b0 N, 19.1573\u00b0 E, 47.4593\u00b0 N, 19.0187\u00b0 E, 47.4991\u00b0 N, 18.9905\u00b0 E, 47.5355\u00b0 N, 19.0709\u00b0 E, 47.5225\u00b0 N, 19.1147\u00b0 E, 47.5589\u00b0 N, 19.1193\u00b0 E, 47.5183\u00b0 N, 19.1919\u00b0 E, 47.4803\u00b0 N, 19.2667\u00b0 E, 47.4281\u00b0 N, 19.2098\u00b0 E, 47.4457\u00b0 N, 19.1430\u00b0 E, 47.4333\u00b0 N, 19.1193\u00b0 E, 47.4244\u00b0 N, 19.0661\u00b0 E, 47.4250\u00b0 N, 19.0317\u00b0 E, 47.3940\u00b0 N, 19.1225\u00b0 E'\ncoords=coords.replace('\u00b0 E', '').replace('\u00b0 N', '').split(', ')\ndf3['Neighborhood.Latitude']=coords[::2]\ndf3['Neighborhood.Longitude']=coords[1::2]\ndf3"
        },
        {
            "cell_type": "code",
            "execution_count": null,
            "metadata": {},
            "outputs": [],
            "source": "merged = pd.merge(left=df3, right=df, left_on='Neighborhood', right_on='Neighborhood')\nmerged.tail()"
        },
        {
            "cell_type": "code",
            "execution_count": null,
            "metadata": {
                "scrolled": true
            },
            "outputs": [],
            "source": "!pip install folium\nimport folium"
        },
        {
            "cell_type": "code",
            "execution_count": null,
            "metadata": {},
            "outputs": [],
            "source": "bp_lat='47.48'\nbp_lon='19.13'\n\nline_points=[\n    (47.3850,19.0320),\n    (47.5850,19.0580)\n]\n\nmap=folium.Map(location=[bp_lat, bp_lon], zoom_start=11)\n\nfolium.PolyLine(line_points, color='blue', weight=5, opacity=1).add_to(map)\n\nfolium.map.Marker(\n    [47.5850, 19.0200],\n    icon=folium.DivIcon(\n        icon_size=(15,15),\n        icon_anchor=(0,0),\n        html='<b style=\"font-size: 16pt;\">Buda</b>'\n        )\n    ).add_to(map)\nfolium.map.Marker(\n    [47.5850, 19.0600],\n    icon=folium.DivIcon(\n        icon_size=(15,15),\n        icon_anchor=(0,0),\n        html='<b style=\"font-size: 16pt;\">Pest</b>',\n        )\n    ).add_to(map)\n\nfor lat, lon, label in zip(df3['Neighborhood.Latitude'], df3['Neighborhood.Longitude'], df3['Neighborhood']):\n    label=folium.Popup(label, parse_html=True)\n    folium.CircleMarker(\n        [lat, lon], \n        radius=5,\n        color='red',\n        popup=label,\n        fill=True,\n        fill_color='#500000',\n        fill_opacity=0.7,\n        parse_html=False).add_to(map)\n\nmap"
        },
        {
            "cell_type": "code",
            "execution_count": null,
            "metadata": {},
            "outputs": [],
            "source": "# The code was removed by Watson Studio for sharing."
        },
        {
            "cell_type": "code",
            "execution_count": null,
            "metadata": {},
            "outputs": [],
            "source": "CLIENT_ID='YOUR_ID'\nCLIENT_SECRET='YOUR_SECRET'\nVERSION='20180605'\nLIMIT=300\nRADIUS=1000"
        },
        {
            "cell_type": "code",
            "execution_count": null,
            "metadata": {},
            "outputs": [],
            "source": "# The code was removed by Watson Studio for sharing."
        },
        {
            "cell_type": "code",
            "execution_count": null,
            "metadata": {},
            "outputs": [],
            "source": "def getNearbyVenues(names, lats, lons):\n    list=[]\n    for n, la, lo in zip(names, lats, lons):\n        url= 'https://api.foursquare.com/v2/venues/explore?client_id={}&client_secret={}&v={}&ll={},{}&radius={}&limit={}'.format(CLIENT_ID, CLIENT_SECRET, VERSION, la, lo, RADIUS, LIMIT)\n        results= requests.get(url).json()['response']['groups'][0]['items']\n        list.append([(\n         n, \n         la, \n         lo, \n         v['venue']['name'], \n         v['venue']['location']['lat'], \n         v['venue']['location']['lng'], \n         v['venue']['categories'][0]['name']) for v in results]\n        )\n    \n    nearby=pd.DataFrame([item for vlist in list for item in vlist])\n    nearby.columns=[\n     'Neighborhood',\n     'Neighborhood Latitude', \n     'Neighborhood Longitude',\n     'Venue',\n     'Venue Latitude',\n     'Venue Longitude', \n     'Venue Category'\n    ]\n\n    return(nearby)"
        },
        {
            "cell_type": "code",
            "execution_count": null,
            "metadata": {},
            "outputs": [],
            "source": "venues=getNearbyVenues(\n  names=df3['Neighborhood'],\n  lats=df3['Neighborhood.Latitude'],\n  lons=df3['Neighborhood.Longitude']\n)\nprint(venues.shape)"
        },
        {
            "cell_type": "code",
            "execution_count": null,
            "metadata": {},
            "outputs": [],
            "source": "onehot=pd.get_dummies(venues[['Venue Category']], prefix=\"\", prefix_sep=\"\")\nonehot['Neighborhood']=venues['Neighborhood']\nfixed_columns=[onehot.columns[-1]]+list(onehot.columns[:-1])\nonehot=onehot[fixed_columns]\ngrouped=onehot.groupby('Neighborhood').mean().reset_index()\nprint(grouped.shape)"
        },
        {
            "cell_type": "code",
            "execution_count": null,
            "metadata": {},
            "outputs": [],
            "source": "def most_common_venues(row, top):\n    row_categories=row.iloc[1:]\n    row_categories_sorted= row_categories.sort_values(ascending=False)\n    return row_categories_sorted.index.values[0:top]"
        },
        {
            "cell_type": "code",
            "execution_count": null,
            "metadata": {},
            "outputs": [],
            "source": "import numpy as np"
        },
        {
            "cell_type": "code",
            "execution_count": null,
            "metadata": {},
            "outputs": [],
            "source": "top=10\nindicators=['st', 'nd', 'rd']\ncolumns=['Neighborhood']\nfor ind in np.arange(top):\n    try:\n        columns.append('{}{} Most Common Venue'.format(ind+1, indicator[ind]))\n    except:\n        columns.append('{}th Most Common Venue'.format(ind+1))\n\nsorted=pd.DataFrame(columns=columns)\nsorted['Neighborhood']=grouped['Neighborhood']\n\nfor ind in np.arange(grouped.shape[0]):\n    sorted.iloc[ind, 1:]=most_common_venues(grouped.iloc[ind, :],top)\n\nsorted.head()"
        },
        {
            "cell_type": "code",
            "execution_count": null,
            "metadata": {},
            "outputs": [],
            "source": "from sklearn.cluster import KMeans\n!pip install yellowbrick\nfrom yellowbrick.cluster import KElbowVisualizer"
        },
        {
            "cell_type": "code",
            "execution_count": null,
            "metadata": {},
            "outputs": [],
            "source": "clustering=grouped.drop('Neighborhood', 1)\n\nvisualizer = KElbowVisualizer(KMeans(), k=(2,23), metric='calinski_harabasz', timings=False)\nvisualizer.fit(clustering)\nvisualizer.show() "
        },
        {
            "cell_type": "code",
            "execution_count": null,
            "metadata": {},
            "outputs": [],
            "source": "# The code was removed by Watson Studio for sharing."
        },
        {
            "cell_type": "code",
            "execution_count": null,
            "metadata": {},
            "outputs": [],
            "source": "k=6\nkmeans=KMeans(n_clusters=k, random_state=0)\nkmeans.fit(clustering)\n\nclustered=sorted\nclustered.insert(0,'Cluster Labels', kmeans.labels_)\n\nmerged=df3\nmerged=merged.join(sorted.set_index('Neighborhood'), on='Neighborhood')\nmerged"
        },
        {
            "cell_type": "code",
            "execution_count": null,
            "metadata": {},
            "outputs": [],
            "source": "import matplotlib.cm as cm\nimport matplotlib.colors as colors"
        },
        {
            "cell_type": "code",
            "execution_count": null,
            "metadata": {
                "scrolled": true
            },
            "outputs": [],
            "source": "map=folium.Map(location=[bp_lat, bp_lon], zoom_start=11)\n\nfolium.PolyLine(line_points, color='blue', weight=5, opacity=1).add_to(map)\n\nfolium.map.Marker(\n    [47.5850, 19.0200],\n    icon=folium.DivIcon(\n        icon_size=(15,15),\n        icon_anchor=(0,0),\n        html='<b style=\"font-size: 16pt;\">Buda</b>'\n        )\n    ).add_to(map)\nfolium.map.Marker(\n    [47.5850, 19.0600],\n    icon=folium.DivIcon(\n        icon_size=(15,15),\n        icon_anchor=(0,0),\n        html='<b style=\"font-size: 16pt;\">Pest</b>'\n        )\n    ).add_to(map)\n\nx=np.arange(k)\nys=[i+x+(i*x)**2 for i in range(k)]\ncolors_array=cm.rainbow(np.linspace(0,1,len(ys)))\nrainbow=[colors.rgb2hex(i) for i in colors_array]\n\nmarkers_colors=[]\n\nfor lat, lon, poi, clus in zip(merged['Neighborhood.Latitude'], merged['Neighborhood.Longitude'], merged['Neighborhood'], merged['Cluster Labels']):\n    label=folium.Popup(str(poi)+' Cluster '+str(clus), parse_html=True)\n    folium.CircleMarker(\n        [lat, lon], \n        radius=5,\n        color=rainbow[clus-1], \n        popup=label,\n        fill=True,\n        fill_color=rainbow[clus-1], \n        fill_opacity=0.7).add_to(map)\n    folium.Circle(\n        [lat, lon],\n        radius=RADIUS,\n        color='green',  \n        fill=False).add_to(map)\n                                        \nmap"
        },
        {
            "cell_type": "code",
            "execution_count": null,
            "metadata": {},
            "outputs": [],
            "source": "# The code was removed by Watson Studio for sharing."
        },
        {
            "cell_type": "code",
            "execution_count": null,
            "metadata": {
                "scrolled": true
            },
            "outputs": [],
            "source": "merged.loc[merged['Cluster Labels']==0, merged.columns[[0]+list(range(k-1, merged.shape[1]))]]"
        },
        {
            "cell_type": "code",
            "execution_count": null,
            "metadata": {
                "scrolled": false
            },
            "outputs": [],
            "source": "merged.loc[merged['Cluster Labels']==1, merged.columns[[0]+list(range(k-1, merged.shape[1]))]]"
        },
        {
            "cell_type": "code",
            "execution_count": null,
            "metadata": {
                "scrolled": false
            },
            "outputs": [],
            "source": "merged.loc[merged['Cluster Labels']==2, merged.columns[[0]+list(range(k-1, merged.shape[1]))]]"
        },
        {
            "cell_type": "code",
            "execution_count": null,
            "metadata": {
                "scrolled": true
            },
            "outputs": [],
            "source": "merged.loc[merged['Cluster Labels']==3, merged.columns[[0]+list(range(k-1, merged.shape[1]))]]"
        },
        {
            "cell_type": "code",
            "execution_count": null,
            "metadata": {},
            "outputs": [],
            "source": "merged.loc[merged['Cluster Labels']==4, merged.columns[[0]+list(range(k-1, merged.shape[1]))]]"
        },
        {
            "cell_type": "code",
            "execution_count": null,
            "metadata": {},
            "outputs": [],
            "source": "merged.loc[merged['Cluster Labels']==5, merged.columns[[0]+list(range(k-1, merged.shape[1]))]]"
        }
    ],
    "metadata": {
        "kernelspec": {
            "display_name": "Python 3.6",
            "language": "python",
            "name": "python3"
        },
        "language_info": {
            "codemirror_mode": {
                "name": "ipython",
                "version": 3
            },
            "file_extension": ".py",
            "mimetype": "text/x-python",
            "name": "python",
            "nbconvert_exporter": "python",
            "pygments_lexer": "ipython3",
            "version": "3.6.9"
        }
    },
    "nbformat": 4,
    "nbformat_minor": 1
}