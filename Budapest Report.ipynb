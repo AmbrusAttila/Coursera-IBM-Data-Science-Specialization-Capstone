{
    "cells": [
        {
            "cell_type": "markdown",
            "metadata": {
                "collapsed": true
            },
            "source": "<h1>Budapest</h1>\n\n<h2>Introduction:</h2>"
        },
        {
            "cell_type": "markdown",
            "metadata": {},
            "source": "<p>Budapest is the capital of Hungary and it is currently the 9th most populated city in the European Union. The number of its inhabitants is 1.75 million, which is roughly 18% of the population of Hungary. The river Danube separates the city of Budapest into two parts: Buda and Pest.</p>"
        },
        {
            "cell_type": "markdown",
            "metadata": {},
            "source": "<img src=\"https://i.ibb.co/SsxtHmB/20200602-151232.png\" width='600px' />"
        },
        {
            "cell_type": "markdown",
            "metadata": {},
            "source": "<p>The scope of this project is to compare Buda and Pest, analyzing the venue data of the 23 districts of Budapest. Are the two parts of the city similar in terms of the most common categories of venue, or are they different?</p>\n<p>The target audience of the project is the government of Hungary, as its implementation could even be ordered by the Mayor of Budapest. For example, by eliminating location differences between the two areas, Budapest would be even more unified.</p>\n\n<h2>Data:</h2>   \n    \n<p>I intend to obtain the required data for the test from various sources. I plan to use web scraping on the three websites below:</p>\n<p><a href=\"http://nagyvofely.hu/Budapest/irszam\">Link1</a><br />\nFrom this website I will extract the postal codes of Budapest and the corrisponding disctrict numbers.</p>\n<p><a href=\"https://xn--irnytszmok-t4af6mnd.cybo.com/magyarorsz%C3%A1g/\">Link2</a><br />\nThis website contains the coordinates belonging to the postal codes.</p>\n<p><a href=\"https://en.m.wikipedia.org/wiki/List_of_districts_in_Budapest\">Link3</a><br />\nFrom this Wikipedia site I will get the list of the areas belonging to the disctricts.</p>\n<p>Since not all data is available through web scraping, I will use manual data processing as well with the help of Google search. With this method I will collect the coordinates belonging to the disctricts.</p>"
        },
        {
            "cell_type": "markdown",
            "metadata": {},
            "source": "<img src='https://i.ibb.co/N3DTJMZ/20200602-154210.png' />"
        },
        {
            "cell_type": "markdown",
            "metadata": {},
            "source": "<p>Finally, using the API venue explore function of Foursquare, I would like to extract up to 300 venues per district within the area of 1000 meters from the coordinate of each disctrict\u2019s center, which I would like to use for further analysis.</p>"
        },
        {
            "cell_type": "markdown",
            "metadata": {},
            "source": "<img src='https://i.ibb.co/StNdchK/20200602-154332.png' />"
        },
        {
            "cell_type": "markdown",
            "metadata": {},
            "source": "<h2>Methodology:</h2>\n    \n<p>To compare the locations of Buda and Pest I chose a process called clustering during which we create a predetermined number of groups. Within these groups the districts with similar characteristics will be classified so that they differ as much as possible from the elements of the other groups.</p>\n<p>I renamed the category of venues that contain the word Restaurant, and the categories of Food & Drink or Pizza Place to Restaurant category. I renamed the categories of venues of Bar, Pub, Beer Bar, Beer Garden, Wine Bar to Bar category. From the venues I exclude the venues of Bus Stop, Bus Station, Tram Station, Train Station, Grocery Store, Ice Cream Shop, Caf\u00e9, Coffee Shop, Smoke Shop, Bistro, Bakery and Pharmacy category, because they are too general and affect the result negatively. Finally the clustering was based on the 5 most common venue categories belonging to the district.</p>\n<p>First of all, we need to define the optimal number of groups. In order to determine this, I chose the Silhouette score and the Elbow method. In the figure below it is shown clearly that for the data I collected, the optimal number of clusters is 5.</p>"
        },
        {
            "cell_type": "markdown",
            "metadata": {},
            "source": "<img src='https://i.ibb.co/p01L6b6/20200605-071550.png' width='500px' />"
        },
        {
            "cell_type": "markdown",
            "metadata": {},
            "source": "<p>After this I can apply the algorithm called K-Means which is a partitioning-based clustering algorithm. The disadvantage of this unsupervised algorithm is that we have to determine in advance the number of clusters to be formed, but we have done this before. The end result of the algorithm depends a lot on the randomly determined initial cluster centers, but for the implementation of the project we can accept a local optimum result as well.</p>\n<p>The result of the clustering can be seen in the figure below. On the map of Budapest generated by the folium library it is clearly visible which districts the algorithm classified into which cluster, based on the common venues found there. Different clusters are indicated by circular markers of different colors, and the circle around them shows the area of 1 km in which we examined the categories of venue.</p>"
        },
        {
            "cell_type": "markdown",
            "metadata": {},
            "source": "<img src='https://i.ibb.co/DWmQmdH/20200605-071646.png' width='600px' />"
        },
        {
            "cell_type": "markdown",
            "metadata": {},
            "source": "<h2>Results:</h2>\n<p>The distribution of the districts of Budapest is uneven, so it is difficult to evaluate the results. Buda has 6 districts, while Pest has 17.</p>\n<p>The clustering revealed five groups during the analysis, to which the number of districts also has an uneven distribution. Most of the districts belong to a single cluster, i.e. 12 districts. The second largest cluster includes 6 districts. Of the remaining clusters, one has 3 elements and two have 1-1 element.</p>"
        },
        {
            "cell_type": "markdown",
            "metadata": {},
            "source": "<img src='https://i.ibb.co/6yG0XDD/20200605-071953.png' />"
        },
        {
            "cell_type": "markdown",
            "metadata": {},
            "source": "<p>The color of the largest cluster\u2019s marker on the map is orange and its districts are scattered on the map. In these districts, like in the capital, restaurants can be found in most locations, but other venues are random.</p>"
        },
        {
            "cell_type": "markdown",
            "metadata": {},
            "source": "<img src='https://i.ibb.co/j4wnbhk/20200605-071820.png' />"
        },
        {
            "cell_type": "markdown",
            "metadata": {},
            "source": "<p>Our second largest cluster is light blue, and it is positioned in the center of the capital. Restaurants, bars, hotels and malls are typical here. This part is the downtown, and this is where people live their metropolitan lives.</p>"
        },
        {
            "cell_type": "markdown",
            "metadata": {},
            "source": "<img src='https://i.ibb.co/ZW52yYP/20200605-071755.png' />"
        },
        {
            "cell_type": "markdown",
            "metadata": {},
            "source": "<p>The cluster in purple color with one element marks District 2 where nature and movement come into view. Here the parks, playgrounds, sports facilities, and the scenic view come into play. This area is one of the richest areas of Budapest, where wealthy people live.</p>"
        },
        {
            "cell_type": "markdown",
            "metadata": {},
            "source": "<img src='https://i.ibb.co/LJSn4qz/20200605-071907.png' />"
        },
        {
            "cell_type": "markdown",
            "metadata": {},
            "source": "<p>The second cluster with one element contains District 23 and it has light green color on the map. Analysis has shown that the most common category here is the dessert shop, but also a significant number of cosmetic shops open here. It is considered the district with the smallest population and the population density is also the lowest here.</p>"
        },
        {
            "cell_type": "markdown",
            "metadata": {},
            "source": "<img src='https://i.ibb.co/SR3Nm5T/20200605-071722.png' />"
        },
        {
            "cell_type": "markdown",
            "metadata": {},
            "source": "<p>The color of the last cluster is red, and it contains three districts. The characteristic of all three areas is that they started to develop when they were attached to Budapest and housing estates began to be built on them. These districts differ the most from all other districts of the capital.</p>\n\n<h2>Discussion:</h2>\n<p>As it was visible in the results section, the distribution of venue categories in the districts of Budapest is basically good. There are more districts in Pest than in Buda, but this has geographical and historical reasons, so it is not worth changing this.</p>\n<p>The venue categories of most districts follow a random distribution. Naturally restaurants are found everywhere, because a lot of people like to have a festive lunch or dinner, and in many households they do not take care of cooking for themselves, but during the day they have a pleasant lunch in a restaurant. Not to mention tourists who are glad to eat Hungarian dishes. Apart from restaurants, there is no clearly typical place for these districts, because each district benefits roughly equally from each category, scattered in different parts of the city.</p>\n<p>In the downtown there are so much life, there are the major attractions, tourists stay in the hotels here, there are a lot of restaurants and nightclubs, the elite of the city. However, this is usually the case in all major cities, so this is not a disorder.</p>\n<p>The surrounding of the rich District 2 differs from the other districts of Budapest. The fact that this area attracts the rich is mainly due to the high-lying plots with good views, which can only be afforded by the wallets of wealthy people. And hearing this attracts other moderately wealthy people who wants a high standard of living to other parts of the district. These people do more costly leisure activities, and healthy lifestyle it is more important for them than for an average person. That is why a tennis court and an athletics and sports center were built here. The solution for eliminating the differences is to make other areas attractive for wealthy people as well. But natural endowments also contribute to this, so we cannot create homes with good views where there is no good view. And in the center of the city there is no opportunity to build a new tennis court complex or an athletics center where people live, because these structures require a huge area.</p>\n<p>There are four districts in Budapest which stick out of the image of the city, and we could also make changes on them. One of them is positioned in Buda, and three in Pest, but we cannot draw any conclusion from this regarding the opposites of the two districts, since Pest has almost three times more districts than Buda.</p>\n\n<h2>Conclusion:</h2>"
        },
        {
            "cell_type": "markdown",
            "metadata": {},
            "source": "<img src='https://i.ibb.co/bQVzyDY/31519313312-03a9b1d39d-k.jpg' width='500px' />"
        },
        {
            "cell_type": "markdown",
            "metadata": {},
            "source": "<p>In order to unify Budapest, it is not enough to examine the venues of the districts. By further refining of the analysis we may be able to obtain more information that can shed light on new facts. To do this, we can take a larger radius circle when examining districts and retrieve multiple venues for the areas using Foursquare API.</p>\n<p>However, with further improvements in Districts 17, 19, 22 and 23 the overall picture of the city can be improved. Metropolitan life can also be realized in these suburban areas, as the venues have all necessary endowments. But this requires new building and services in the target areas. Such things are like cultural facilities, sports and leisure centers, restaurants and nightclubs, and any other development that can bring these districts a little closer to the structure of the average districts of Budapest.</p>"
        }
    ],
    "metadata": {
        "kernelspec": {
            "display_name": "Python 3.6",
            "language": "python",
            "name": "python3"
        },
        "language_info": {
            "codemirror_mode": {
                "name": "ipython",
                "version": 3
            },
            "file_extension": ".py",
            "mimetype": "text/x-python",
            "name": "python",
            "nbconvert_exporter": "python",
            "pygments_lexer": "ipython3",
            "version": "3.6.9"
        }
    },
    "nbformat": 4,
    "nbformat_minor": 1
}